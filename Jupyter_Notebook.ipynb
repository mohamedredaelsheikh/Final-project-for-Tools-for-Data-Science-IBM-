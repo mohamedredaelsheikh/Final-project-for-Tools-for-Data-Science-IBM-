{
  "cells": [
    {
      "cell_type": "markdown",
      "metadata": {
        "id": "BncFQBjpNfcj"
      },
      "source": [
        "<center>\n",
        "    <img src=\"https://cf-courses-data.s3.us.cloud-object-storage.appdomain.cloud/IBMDeveloperSkillsNetwork-DS0105EN-SkillsNetwork/labs/Module2/images/SN_web_lightmode.png\" width=\"300\" alt=\"cognitiveclass.ai logo\"  />\n",
        "</center>\n"
      ]
    },
    {
      "cell_type": "markdown",
      "metadata": {
        "id": "6J60ElQ7Nfco"
      },
      "source": [
        "#### Add your code below following the instructions given in the course\n"
      ]
    },
    {
      "cell_type": "markdown",
      "source": [
        "**\"My Jupyter Notebook on IBM Watson Studio\"**"
      ],
      "metadata": {
        "id": "gH7VYASMRVJy"
      }
    },
    {
      "cell_type": "markdown",
      "source": [
        "**Mohamed Reda Elsheikh**\n",
        "\n",
        "I am student now,but i want to be a data science engineerer.  "
      ],
      "metadata": {
        "id": "mZZ0hNWYR71_"
      }
    },
    {
      "cell_type": "markdown",
      "source": [
        "*I am interested in data science because\n",
        "I'll gain a wide array of new skills that will allow you to leverage data to aid companies with their business strategies, and explore exciting new fields developing from within data science fields like artificial intelligence, machine learning, big data, and more.*"
      ],
      "metadata": {
        "id": "VQgjhmvVTSUV"
      }
    },
    {
      "cell_type": "markdown",
      "source": [
        "**The Following Code calculate the factorial number.**"
      ],
      "metadata": {
        "id": "DqevSRTlUSQ7"
      }
    },
    {
      "cell_type": "code",
      "source": [
        "def factorial(n):\n",
        "    fact = 1\n",
        "    for num in range(2, n + 1):\n",
        "        fact *= num\n",
        "    return fact\n",
        "factorial(10)"
      ],
      "metadata": {
        "colab": {
          "base_uri": "https://localhost:8080/"
        },
        "id": "iGNMEso3V0R5",
        "outputId": "6a506cf4-d6ec-4739-e901-35d6a92ef9e5"
      },
      "execution_count": 1,
      "outputs": [
        {
          "output_type": "execute_result",
          "data": {
            "text/plain": [
              "3628800"
            ]
          },
          "metadata": {},
          "execution_count": 1
        }
      ]
    }
  ],
  "metadata": {
    "kernelspec": {
      "display_name": "Python 3",
      "language": "python",
      "name": "python3"
    },
    "language_info": {
      "codemirror_mode": {
        "name": "ipython",
        "version": 3
      },
      "file_extension": ".py",
      "mimetype": "text/x-python",
      "name": "python",
      "nbconvert_exporter": "python",
      "pygments_lexer": "ipython3",
      "version": "3.7.6"
    },
    "colab": {
      "provenance": []
    }
  },
  "nbformat": 4,
  "nbformat_minor": 0
}